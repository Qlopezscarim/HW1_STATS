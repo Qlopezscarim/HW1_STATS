{
 "cells": [
  {
   "cell_type": "markdown",
   "metadata": {},
   "source": [
    "# Homework 1 Part 2\n",
    "\n",
    "\n",
    "This is an individual assignment."
   ]
  },
  {
   "cell_type": "markdown",
   "metadata": {},
   "source": [
    "## Description\n",
    "\n",
    "Create or edit this Jupyter Notebook to answer the questions below. Use simulations to answer these questions. An analytical solution can be useful to check if your simulation is correct but analytical solutions alone will not be accepted as a solution to a problem."
   ]
  },
  {
   "cell_type": "markdown",
   "metadata": {},
   "source": [
    "#### Problem 9\n",
    "\n",
    "Consider repeatedly rolling a fair 4-sided die.\n",
    "\n",
    "1. Create a simulation to compute the probability that the top face will be 4 at least once on four rolls of the die?\n",
    "2. Create a simulation to compute the probability that the top face will be 4 at least once on 20 rolls of the die?\n",
    "3. Create a simulation to compute how many rolls of the die would you have to do to be 90% confident that you would see at least one 4?\n",
    "4. Using the formula you have computed in problem 2 part 4, make a Python function that takes in the target value $p$ and outputs the required number of rolls of an integer. \n",
    "    1. Find the values for $p=0.95$ and $p=0.99$. \n",
    "    2. Use your simulation to verify that the number of rolls you specified is sufficient to achieve $p\\geq 0.95$."
   ]
  },
  {
   "cell_type": "code",
   "execution_count": 6,
   "metadata": {},
   "outputs": [
    {
     "name": "stdout",
     "output_type": "stream",
     "text": [
      "The simulated number of times rolling a 4 at least once in 100000 test is 68406.0 Thus the simulated odds are: 0.68406\n"
     ]
    }
   ],
   "source": [
    "#answer to 9 - 1\n",
    "import random\n",
    "import numpy as np\n",
    "number_of_test = 100000\n",
    "number_of_rolls = 4\n",
    "success = 0\n",
    "truth_array = np.zeros(number_of_test)\n",
    "for test_number in list(range(0,number_of_test)): #iterates through from 1 to number of test\n",
    "    for value in list(range(0,number_of_rolls)):  #iterates through from to to number of rolls\n",
    "        random_value = random.randint(1,4)        #generates random value from 1 to 4\n",
    "        if random_value == 4:\n",
    "            truth_array[test_number] = 1          #If a 4 is rolled make turth array 1 at respective index\n",
    "print(\"The simulated number of times rolling a 4 at least once in \" + str(number_of_test) + \" test is \" + str(sum(truth_array)) + \" Thus the simulated odds are: \" + str((sum(truth_array))/number_of_test))"
   ]
  },
  {
   "cell_type": "code",
   "execution_count": 7,
   "metadata": {},
   "outputs": [
    {
     "name": "stdout",
     "output_type": "stream",
     "text": [
      "The simulated number of times rolling a 4 at least once in 100000 test is 99673.0 Thus the calculated odds are: 0.99673\n"
     ]
    }
   ],
   "source": [
    "#answer to 9 - 2\n",
    "import random\n",
    "import numpy as np    #logic same as part 1\n",
    "number_of_test = 100000\n",
    "number_of_rolls = 20\n",
    "success = 0\n",
    "truth_array = np.zeros(number_of_test)\n",
    "for test_number in list(range(0,number_of_test)):\n",
    "    for value in list(range(0,number_of_rolls)):\n",
    "        random_value = random.randint(1,4)\n",
    "        if random_value == 4:\n",
    "            truth_array[test_number] = 1\n",
    "print(\"The simulated number of times rolling a 4 at least once in \" + str(number_of_test) + \" test is \" + str(sum(truth_array)) + \" Thus the calculated odds are: \" + str((sum(truth_array))/number_of_test))"
   ]
  },
  {
   "cell_type": "code",
   "execution_count": 8,
   "metadata": {},
   "outputs": [
    {
     "name": "stdout",
     "output_type": "stream",
     "text": [
      "9\n",
      "The simulated number of times rolling a 4 at least once in 100000 test is 92491.0 Thus the calculated odds are: 0.92491\n",
      "\n",
      "This is the first simulation to produce odds greater than 90%\n"
     ]
    }
   ],
   "source": [
    "#answer to 9 - 3\n",
    "import random\n",
    "import numpy as np\n",
    "number_of_test = 100000\n",
    "number_of_rolls = 0\n",
    "success = 0\n",
    "truth_array = np.zeros(number_of_test)\n",
    "odds = 0\n",
    "while odds < .90:         #only real new logic, repeat trials until calculated odds is above .9\n",
    "    number_of_rolls = number_of_rolls + 1     #increase number of rolls every loop\n",
    "    truth_array = np.zeros(number_of_test)\n",
    "    for test_number in list(range(0,number_of_test)):\n",
    "        for value in list(range(0,number_of_rolls)):\n",
    "            random_value = random.randint(1,4)\n",
    "            if random_value == 4:\n",
    "                truth_array[test_number] = 1\n",
    "    odds = (sum(truth_array))/number_of_test\n",
    "print(number_of_rolls)\n",
    "print(\"The simulated number of times rolling a 4 at least once in \" + str(number_of_test) + \" test is \" + str(sum(truth_array)) + \" Thus the calculated odds are: \" + str((sum(truth_array))/number_of_test))\n",
    "print(\"\\nThis is the first simulation to produce odds greater than 90%\")\n"
   ]
  },
  {
   "cell_type": "code",
   "execution_count": 9,
   "metadata": {},
   "outputs": [
    {
     "name": "stdout",
     "output_type": "stream",
     "text": [
      "11\n",
      "The simulated number of times rolling a 4 at least once in 100000 test is 95695.0 Thus the calculated odds are: 0.95695\n",
      "\n",
      "This is the first simulation to produce odds greater than 95.0%\n",
      "16\n",
      "The simulated number of times rolling a 4 at least once in 100000 test is 99033.0 Thus the calculated odds are: 0.99033\n",
      "\n",
      "This is the first simulation to produce odds greater than 99.0%\n"
     ]
    }
   ],
   "source": [
    "#answer to 9 - 4a and running of function for aformentioned values\n",
    "import random\n",
    "import numpy as np\n",
    "def function_calc(probability):\n",
    "    number_of_test = 100000 #same logic as question above just in a function\n",
    "    number_of_rolls = 0\n",
    "    truth_array = np.zeros(number_of_test)\n",
    "    odds = 0\n",
    "    while odds < probability:\n",
    "        number_of_rolls = number_of_rolls + 1\n",
    "        truth_array = np.zeros(number_of_test)\n",
    "        for test_number in list(range(0, number_of_test)):\n",
    "            for value in list(range(0, number_of_rolls)):\n",
    "                random_value = random.randint(1, 4)\n",
    "                if random_value == 4:\n",
    "                    truth_array[test_number] = 1\n",
    "        odds = (sum(truth_array)) / number_of_test\n",
    "    print(number_of_rolls)\n",
    "    print(\"The simulated number of times rolling a 4 at least once in \" + str(number_of_test) + \" test is \" + str(\n",
    "    sum(truth_array)) + \" Thus the calculated odds are: \" + str((sum(truth_array)) / number_of_test))\n",
    "    print(\"\\nThis is the first simulation to produce odds greater than \" + str(probability*100) + \"%\")\n",
    "function_calc(.95)\n",
    "function_calc(.99)"
   ]
  },
  {
   "cell_type": "code",
   "execution_count": 10,
   "metadata": {},
   "outputs": [
    {
     "name": "stdout",
     "output_type": "stream",
     "text": [
      "The simulated number of times rolling a 4 at least once in 100000 test is 99255.0 Thus the calculated odds are: 0.99255\n"
     ]
    }
   ],
   "source": [
    "#Testing of running for part 4b\n",
    "import random\n",
    "import numpy as np\n",
    "number_of_test = 100000\n",
    "number_of_rolls = 17\n",
    "success = 0\n",
    "truth_array = np.zeros(number_of_test)\n",
    "for test_number in list(range(0,number_of_test)):\n",
    "    for value in list(range(0,number_of_rolls)):\n",
    "        random_value = random.randint(1,4)\n",
    "        if random_value == 4:\n",
    "            truth_array[test_number] = 1\n",
    "print(\"The simulated number of times rolling a 4 at least once in \" + str(number_of_test) + \" test is \" + str(sum(truth_array)) + \" Thus the calculated odds are: \" + str((sum(truth_array))/number_of_test))"
   ]
  },
  {
   "cell_type": "markdown",
   "metadata": {},
   "source": [
    "## Problem 10\n",
    "\n",
    "Create a simulation function where you will roll a fair 6-sided die twice. Use simulation to find out the probability of getting a 4,5, or 6 on the first toss and a 1,2,3 on the second toss. "
   ]
  },
  {
   "cell_type": "code",
   "execution_count": 11,
   "metadata": {},
   "outputs": [
    {
     "name": "stdout",
     "output_type": "stream",
     "text": [
      "A trial of 10000 simulations returned a probability of 2452.0\n"
     ]
    }
   ],
   "source": [
    "import numpy as np\n",
    "import random\n",
    "number_of_simulations = 10000\n",
    "dice_rolls = np.zeros(number_of_simulations*2)  #tracks every dice roll\n",
    "successes = np.zeros(number_of_simulations)     #keeps tracks of successes\n",
    "for test_number in list(range(0,number_of_simulations)):\n",
    "    random_value = random.randint(1,6)\n",
    "    random_value2 = random.randint(1, 6)\n",
    "    dice_rolls[test_number*2] = random_value     #stores roll 1\n",
    "    dice_rolls[test_number*2 + 1] = random_value2#stores roll 2\n",
    "for value_thing in enumerate(successes):\n",
    "    if dice_rolls[value_thing[0]*2] == 1 or dice_rolls[value_thing[0]*2] == 2 or dice_rolls[value_thing[0]*2] == 3:\n",
    "        if dice_rolls[value_thing[0]*2+1] == 4 or dice_rolls[value_thing[0]*2+1] == 5 or dice_rolls[value_thing[0]*2+1] == 6:\n",
    "            successes[value_thing[0]] = 1   #checks if success, if true then alter index of success tracking array\n",
    "print(\"A trial of \" + str(number_of_simulations) + \" simulations returned a probability of \",end='')\n",
    "print(sum(successes))\n"
   ]
  },
  {
   "cell_type": "markdown",
   "metadata": {},
   "source": [
    "## Problem 11\n",
    "\n",
    "Suppose that you have a bag with 3 coins. One of them is a fair coin, but the others are biased trick coins. When flipped, the three coins come up heads with probability $\\frac{1}{2}$, $\\frac{1}{3}$, and $\\frac{1}{4}$, respectively.\n",
    "\n",
    "Consider the experiment where you pick one coin at random and flip it three times. Let $H_i$ be the event that the coin comes up heads on flip $i$. What is the probability of the outcome $H_1\\cap H_2\\cap \\overline{H_3}$?\n",
    "\n",
    "With small modification in your code, find out the probability of the outcome $H_1\\cap \\overline{H_2} \\cap \\overline{H_3}$.\n",
    "\n",
    "Use simulation to find out the probability."
   ]
  },
  {
   "cell_type": "code",
   "execution_count": 12,
   "metadata": {},
   "outputs": [
    {
     "name": "stdout",
     "output_type": "stream",
     "text": [
      "Odds for first coin:\n",
      "0.12536\n",
      "Odds for second coin:\n",
      "0.07351\n",
      "Odds for third coin:\n",
      "0.04788\n",
      "Odds for first entire situation: \n",
      "0.05642333333333334\n"
     ]
    }
   ],
   "source": [
    "#Answer to first part of problem 11\n",
    "import random\n",
    "import numpy as np\n",
    "heads_tracker = np.zeros(3)   #tracks individual events\n",
    "number_of_trials = 100000\n",
    "success = 0\n",
    "heads_prob = [0,1]            #sample set\n",
    "for test_number in list(range(0,number_of_trials)):\n",
    "    for coin_flip in enumerate(heads_tracker):\n",
    "        coin_value = heads_prob[random.randint(0,1)]  #implements probability\n",
    "        heads_tracker[coin_flip[0]] = coin_value\n",
    "    if heads_tracker[0] == 1:\n",
    "        if heads_tracker[1] == 1:\n",
    "            if heads_tracker[2] == 0:\n",
    "                success = success + 1 #checks if success\n",
    "first_coin_probability = success/number_of_trials\n",
    "print(\"Odds for first coin:\")\n",
    "print(first_coin_probability)\n",
    "# above code calculates probability for first coin\n",
    "\n",
    "#Below code uses same logic, just alters probability of flip\n",
    "heads_tracker = np.zeros(3)\n",
    "number_of_trials = 100000\n",
    "success = 0\n",
    "heads_prob = [0,0,1]\n",
    "for test_number in list(range(0,number_of_trials)):\n",
    "    for coin_flip in enumerate(heads_tracker):\n",
    "        coin_value = heads_prob[random.randint(0,2)]\n",
    "        heads_tracker[coin_flip[0]] = coin_value\n",
    "    if heads_tracker[0] == 1:\n",
    "        if heads_tracker[1] == 1:\n",
    "            if heads_tracker[2] == 0:\n",
    "                success = success + 1\n",
    "second_coin_probability = success/number_of_trials\n",
    "print(\"Odds for second coin:\")\n",
    "print(second_coin_probability)\n",
    "# above code calculates probability for second coin\n",
    "\n",
    "\n",
    "heads_tracker = np.zeros(3)\n",
    "number_of_trials = 100000\n",
    "success = 0\n",
    "heads_prob = [0,0,0,1]\n",
    "for test_number in list(range(0,number_of_trials)):\n",
    "    for coin_flip in enumerate(heads_tracker):\n",
    "        coin_value = heads_prob[random.randint(0,3)]\n",
    "        heads_tracker[coin_flip[0]] = coin_value\n",
    "    if heads_tracker[0] == 1:\n",
    "        if heads_tracker[1] == 1:\n",
    "            if heads_tracker[2] == 0:\n",
    "                success = success + 1\n",
    "third_coin_probability = success/number_of_trials\n",
    "print(\"Odds for third coin:\")\n",
    "print(third_coin_probability)\n",
    "# above code calculates probability for third coin\n",
    "value = third_coin_probability * (1/3) + second_coin_probability * (1/3) + third_coin_probability * (1/3)\n",
    "print(\"Odds for first entire situation: \")\n",
    "print(value)\n",
    "\n",
    "\n"
   ]
  },
  {
   "cell_type": "code",
   "execution_count": 13,
   "metadata": {},
   "outputs": [
    {
     "name": "stdout",
     "output_type": "stream",
     "text": [
      "Odds for first coin:\n",
      "0.12503\n",
      "Odds for second coin:\n",
      "0.1497\n",
      "Odds for third coin:\n",
      "0.14123\n",
      "Odds for second entire situation: \n",
      "0.1440533333333333\n"
     ]
    }
   ],
   "source": [
    "#Answer for second part of problem 11\n",
    "import random\n",
    "import numpy as np\n",
    "heads_tracker = np.zeros(3)\n",
    "number_of_trials = 100000\n",
    "success = 0\n",
    "heads_prob = [0,1]\n",
    "for test_number in list(range(0,number_of_trials)):\n",
    "    for coin_flip in enumerate(heads_tracker):\n",
    "        coin_value = heads_prob[random.randint(0,1)]\n",
    "        heads_tracker[coin_flip[0]] = coin_value\n",
    "    if heads_tracker[0] == 1:\n",
    "        if heads_tracker[1] == 0: #one of three changed lines\n",
    "            if heads_tracker[2] == 0:\n",
    "                success = success + 1\n",
    "first_coin_probability = success/number_of_trials\n",
    "print(\"Odds for first coin:\")\n",
    "print(first_coin_probability)\n",
    "# above code calculates probability for first coin\n",
    "\n",
    "heads_tracker = np.zeros(3)\n",
    "number_of_trials = 100000\n",
    "success = 0\n",
    "heads_prob = [0,0,1]\n",
    "for test_number in list(range(0,number_of_trials)):\n",
    "    for coin_flip in enumerate(heads_tracker):\n",
    "        coin_value = heads_prob[random.randint(0,2)]\n",
    "        heads_tracker[coin_flip[0]] = coin_value\n",
    "    if heads_tracker[0] == 1:\n",
    "        if heads_tracker[1] == 0: #second of three changed lines\n",
    "            if heads_tracker[2] == 0:\n",
    "                success = success + 1\n",
    "second_coin_probability = success/number_of_trials\n",
    "print(\"Odds for second coin:\")\n",
    "print(second_coin_probability)\n",
    "# above code calculates probability for second coin\n",
    "\n",
    "\n",
    "heads_tracker = np.zeros(3)\n",
    "number_of_trials = 100000\n",
    "success = 0\n",
    "heads_prob = [0,0,0,1]\n",
    "for test_number in list(range(0,number_of_trials)):\n",
    "    for coin_flip in enumerate(heads_tracker):\n",
    "        coin_value = heads_prob[random.randint(0,3)]\n",
    "        heads_tracker[coin_flip[0]] = coin_value\n",
    "    if heads_tracker[0] == 1:\n",
    "        if heads_tracker[1] == 0: #third of third changed lines\n",
    "            if heads_tracker[2] == 0:\n",
    "                success = success + 1\n",
    "third_coin_probability = success/number_of_trials\n",
    "print(\"Odds for third coin:\")\n",
    "print(third_coin_probability)\n",
    "# above code calculates probability for third coin\n",
    "value = third_coin_probability * (1/3) + second_coin_probability * (1/3) + third_coin_probability * (1/3)\n",
    "print(\"Odds for second entire situation: \")\n",
    "print(value)\n",
    "\n",
    "\n"
   ]
  },
  {
   "cell_type": "markdown",
   "metadata": {},
   "source": [
    "# Submit Your Solutions\n",
    "\n",
    "Confirm that you've successfully completed the assignment.\n",
    "\n",
    "Along with the Notebook, include a PDF of the notebook with your solutions.\n",
    "\n",
    "```add``` and ```commit``` the final version of your work, and ```push``` your PDF file to your GitHub repository.\n",
    "\n",
    "Submit the URL of your GitHub Repository as your assignment submission on Canvas."
   ]
  }
 ],
 "metadata": {
  "kernelspec": {
   "display_name": "Python 3 (ipykernel)",
   "language": "python",
   "name": "python3"
  },
  "language_info": {
   "codemirror_mode": {
    "name": "ipython",
    "version": 3
   },
   "file_extension": ".py",
   "mimetype": "text/x-python",
   "name": "python",
   "nbconvert_exporter": "python",
   "pygments_lexer": "ipython3",
   "version": "3.10.0"
  },
  "latex_envs": {
   "LaTeX_envs_menu_present": true,
   "autoclose": false,
   "autocomplete": true,
   "bibliofile": "biblio.bib",
   "cite_by": "apalike",
   "current_citInitial": 1,
   "eqLabelWithNumbers": true,
   "eqNumInitial": 1,
   "hotkeys": {
    "equation": "Ctrl-E",
    "itemize": "Ctrl-I"
   },
   "labels_anchors": false,
   "latex_user_defs": false,
   "report_style_numbering": false,
   "user_envs_cfg": false
  },
  "varInspector": {
   "cols": {
    "lenName": 16,
    "lenType": 16,
    "lenVar": 40
   },
   "kernels_config": {
    "python": {
     "delete_cmd_postfix": "",
     "delete_cmd_prefix": "del ",
     "library": "var_list.py",
     "varRefreshCmd": "print(var_dic_list())"
    },
    "r": {
     "delete_cmd_postfix": ") ",
     "delete_cmd_prefix": "rm(",
     "library": "var_list.r",
     "varRefreshCmd": "cat(var_dic_list()) "
    }
   },
   "types_to_exclude": [
    "module",
    "function",
    "builtin_function_or_method",
    "instance",
    "_Feature"
   ],
   "window_display": false
  }
 },
 "nbformat": 4,
 "nbformat_minor": 4
}
